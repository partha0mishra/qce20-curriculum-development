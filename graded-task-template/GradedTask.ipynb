{
 "cells": [
  {
   "cell_type": "markdown",
   "metadata": {},
   "source": [
    "### Task 1.1. Prepare basis state\n",
    "\n",
    "**Input:** \n",
    "1. Array of qubits in $|0\\rangle$ state.\n",
    "2. A bit string representing the basis state, for example, `[true, false]` corresponds to $|10\\rangle$.\n",
    "\n",
    "**Goal:**  "
   ]
  },
  {
   "cell_type": "code",
   "execution_count": null,
   "metadata": {},
   "outputs": [],
   "source": [
    "%kata T101_PrepareBasisState\n",
    "\n",
    "operation PrepareBasisState (qs : Qubit[], bitString : Bool[]) : Unit {\n",
    "    // ...\n",
    "}"
   ]
  }
 ],
 "metadata": {
  "kernelspec": {
   "display_name": "Q#",
   "language": "qsharp",
   "name": "iqsharp"
  },
  "language_info": {
   "file_extension": ".qs",
   "mimetype": "text/x-qsharp",
   "name": "qsharp",
   "version": "0.12"
  }
 },
 "nbformat": 4,
 "nbformat_minor": 2
}
