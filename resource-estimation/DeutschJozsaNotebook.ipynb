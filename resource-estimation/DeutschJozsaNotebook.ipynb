{
 "cells": [
  {
   "cell_type": "markdown",
   "metadata": {},
   "source": [
    "# Deep Dive: Resource Estimation for Q# Code\n",
    "\n",
    "The Q# code in this task implements Deutsch-Jozsa algorithm for two example functions (one constant and one balanced) - the same ones as in the debugging task. This task focuses on resource estimation for quantum algorithms, using a very simple example.\n",
    "\n",
    "> [QDK documentation on resource estimation](https://docs.microsoft.com/en-us/quantum/user-guide/machines/resources-estimator)."
   ]
  },
  {
   "cell_type": "markdown",
   "metadata": {},
   "source": [
    "1. Run the next cell using `Ctrl+Enter` (`⌘+Enter` on macOS) to compile the code."
   ]
  },
  {
   "cell_type": "code",
   "execution_count": null,
   "metadata": {},
   "outputs": [],
   "source": [
    "// Note that Q# code in the notebook shouldn't be defined inside a namespace.\n",
    "open Microsoft.Quantum.Intrinsic;\n",
    "open Microsoft.Quantum.Canon;\n",
    "open Microsoft.Quantum.Measurement;\n",
    "\n",
    "// Phase oracle implementing a constant function f(x) = 0\n",
    "operation PhaseOracleZero (inputRegister : Qubit[]) : Unit {\n",
    "    // Do nothing!\n",
    "}\n",
    "\n",
    "// Marking oracle implementing a balanced function f(x) = xₖ (the value of k-th bit)\n",
    "operation MarkingOracleKthBit (inputRegister : Qubit[], target : Qubit, k : Int) : Unit {\n",
    "    Controlled X([inputRegister[k]], target);\n",
    "}\n",
    "\n",
    "operation ApplyMarkingOracleAsPhaseOracle (\n",
    "    markingOracle : ((Qubit[], Qubit) => Unit), \n",
    "    inputRegister : Qubit[]\n",
    ") : Unit {\n",
    "    using (target = Qubit()) {\n",
    "        // Put the target into the |-⟩ state\n",
    "        X(target);\n",
    "        H(target);\n",
    "        // Apply the marking oracle; since the target is in the |-⟩ state,\n",
    "        // flipping the target if the register satisfies the oracle condition will apply a -1 factor to the state\n",
    "        markingOracle(inputRegister, target);\n",
    "        // Return the target back to the |0⟩ state before releasing\n",
    "        H(target);\n",
    "        X(target);\n",
    "    }\n",
    "}\n",
    "\n",
    "operation IsFunctionConstant (nQubits : Int, phaseOracle : (Qubit[] => Unit)) : Bool {\n",
    "    mutable isConstant = true;\n",
    "    using (qubits = Qubit[nQubits]) {\n",
    "        // Apply the H gates, the oracle and the H gates again\n",
    "        within {\n",
    "            ApplyToEachA(H, qubits);\n",
    "        } apply {\n",
    "            phaseOracle(qubits);\n",
    "        }\n",
    "        // Measure all qubits\n",
    "        let measurementResults = MultiM(qubits);\n",
    "        for (m in measurementResults) {\n",
    "            if (m == One) {\n",
    "                set isConstant = false;\n",
    "            }\n",
    "        }\n",
    "    }\n",
    "    return isConstant;\n",
    "}\n",
    "\n",
    "function ConstantOrBalanced (value : Bool) : String {\n",
    "    return value ? \"constant\" | \"balanced\";\n",
    "}\n",
    "\n",
    "// Note that Q# code in the notebook doesn't need @EntryPoint().\n",
    "// Instead, we'll call the operation with %simulate in the next cell.\n",
    "operation RunDeutschJozsaAlgorithm () : Unit {\n",
    "    // for balanced function\n",
    "    let phaseOracleKthBit = ApplyMarkingOracleAsPhaseOracle(MarkingOracleKthBit(_, _, 1), _);\n",
    "    let isKthBitConstant = IsFunctionConstant(2, phaseOracleKthBit);\n",
    "    Message($\"f(x) = xk classified as {ConstantOrBalanced(isKthBitConstant)}\");\n",
    "}"
   ]
  },
  {
   "cell_type": "markdown",
   "metadata": {},
   "source": [
    "2. `%simulate` runs the algorithm on a full state quantum simulator"
   ]
  },
  {
   "cell_type": "code",
   "execution_count": null,
   "metadata": {},
   "outputs": [],
   "source": [
    "%simulate RunDeutschJozsaAlgorithm"
   ]
  },
  {
   "cell_type": "markdown",
   "metadata": {},
   "source": [
    "3. `%trace` plots the circuit diagram of one algorithm run. (If the algorithm has branches depending on input parameters or measurement results, it will plot only one scenario.)"
   ]
  },
  {
   "cell_type": "code",
   "execution_count": null,
   "metadata": {
    "scrolled": true
   },
   "outputs": [],
   "source": [
    "%trace RunDeutschJozsaAlgorithm"
   ]
  },
  {
   "cell_type": "markdown",
   "metadata": {},
   "source": [
    "4. `%estimate` runs resource estimation on the algorithm (without simulating the algorithm itself) and outputs the statistics."
   ]
  },
  {
   "cell_type": "code",
   "execution_count": null,
   "metadata": {
    "scrolled": true
   },
   "outputs": [],
   "source": [
    "%estimate RunDeutschJozsaAlgorithm"
   ]
  }
 ],
 "metadata": {
  "kernelspec": {
   "display_name": "Q#",
   "language": "qsharp",
   "name": "iqsharp"
  },
  "language_info": {
   "file_extension": ".qs",
   "mimetype": "text/x-qsharp",
   "name": "qsharp",
   "version": "0.12"
  }
 },
 "nbformat": 4,
 "nbformat_minor": 2
}
